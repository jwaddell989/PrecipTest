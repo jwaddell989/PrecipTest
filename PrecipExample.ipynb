{
 "cells": [
  {
   "cell_type": "code",
   "execution_count": null,
   "metadata": {},
   "outputs": [],
   "source": [
    "import geopandas as gpd\n",
    "import pandas as pd\n",
    "from shapely.geometry import Point\n",
    "import os"
   ]
  },
  {
   "cell_type": "code",
   "execution_count": null,
   "metadata": {},
   "outputs": [],
   "source": [
    "# select date\n",
    "Date = 20210328 ### YYYYMMDD\n",
    "\n",
    "# download MPECAPA Data\n",
    "APIURL = 'http://mrcc.illinois.edu/cliwatch/northAmerPcpn/greatLakes/mrgGL_'\n",
    "precip = pd.read_csv(APIURL + str(Date) + '.csv')\n",
    "precip = gpd.GeoDataFrame(precip,geometry = [Point(x) for x in zip(precip.lon.values,precip.lat.values)],\n",
    "                          crs = 'EPSG:4269')"
   ]
  },
  {
   "cell_type": "code",
   "execution_count": null,
   "metadata": {},
   "outputs": [],
   "source": [
    "#load shapefiles\n",
    "GLBasins    = gpd.read_file('BasinShapefiles/GreatLakesBasins.shp').rename(columns={'NAME':'Name'}).to_crs('EPSG:4269')\n",
    "STLAW_Lake  = gpd.read_file('BasinShapefiles/StLawrenceBasins_Lake.shp').to_crs('EPSG:4269')\n",
    "STLAW_Land  = gpd.read_file('BasinShapefiles/StLawrenceBasins_Land.shp').to_crs('EPSG:4269')\n",
    "STLAW_Total = gpd.read_file('BasinShapefiles/StLawrenceBasins_Total.shp').to_crs('EPSG:4269')"
   ]
  },
  {
   "cell_type": "code",
   "execution_count": null,
   "metadata": {},
   "outputs": [],
   "source": [
    "# join data to basin shapefiles\n",
    "precipBasins      = gpd.sjoin(precip,GLBasins[['Name','geometry']]   ).drop(columns ='index_right')\n",
    "precipSTLAW_Lake  = gpd.sjoin(precip,STLAW_Lake[['Name','geometry']] ).drop(columns ='index_right')\n",
    "precipSTLAW_Land  = gpd.sjoin(precip,STLAW_Land[['Name','geometry']] ).drop(columns ='index_right')\n",
    "precipSTLAW_Total = gpd.sjoin(precip,STLAW_Total[['Name','geometry']]).drop(columns ='index_right')"
   ]
  },
  {
   "cell_type": "markdown",
   "metadata": {},
   "source": [
    "### Show Results"
   ]
  },
  {
   "cell_type": "code",
   "execution_count": 70,
   "metadata": {},
   "outputs": [
    {
     "data": {
      "text/plain": [
       "Name\n",
       "Erie        5.449241\n",
       "Huron       5.426497\n",
       "Michigan    7.995037\n",
       "Ontario     0.101317\n",
       "StClair     6.868466\n",
       "Superior    4.834545\n",
       "Name: prcp_mm, dtype: float64"
      ]
     },
     "execution_count": 70,
     "metadata": {},
     "output_type": "execute_result"
    }
   ],
   "source": [
    "### precip basins\n",
    "precipBasins.groupby('Name')['prcp_mm'].mean()"
   ]
  },
  {
   "cell_type": "code",
   "execution_count": 71,
   "metadata": {},
   "outputs": [
    {
     "data": {
      "text/plain": [
       "Name\n",
       "Lake Erie         1.428061\n",
       "Lake Huron        7.808441\n",
       "Lake Michigan     4.252536\n",
       "Lake Ontario      0.005352\n",
       "Lake St. Clair    9.379723\n",
       "Lake Superior     4.629278\n",
       "Name: prcp_mm, dtype: float64"
      ]
     },
     "execution_count": 71,
     "metadata": {},
     "output_type": "execute_result"
    }
   ],
   "source": [
    "### precip LAKE\n",
    "precipSTLAW_Lake.groupby('Name')['prcp_mm'].mean()"
   ]
  },
  {
   "cell_type": "code",
   "execution_count": 72,
   "metadata": {},
   "outputs": [
    {
     "data": {
      "text/plain": [
       "Name\n",
       "Lake Champlain-Richelieu    0.027350\n",
       "Lake Erie                   5.199582\n",
       "Lake Huron                  5.507683\n",
       "Lake Michigan               7.990613\n",
       "Lake Ontario                0.135782\n",
       "Lake St. Clair              6.785156\n",
       "Lake Superior               4.833605\n",
       "Ottawa River                1.270481\n",
       "Saint Maurice               0.363874\n",
       "St. Lawrence                0.267771\n",
       "Name: prcp_mm, dtype: float64"
      ]
     },
     "execution_count": 72,
     "metadata": {},
     "output_type": "execute_result"
    }
   ],
   "source": [
    "### precip LAND\n",
    "precipSTLAW_Land.groupby('Name')['prcp_mm'].mean()"
   ]
  },
  {
   "cell_type": "code",
   "execution_count": 73,
   "metadata": {},
   "outputs": [
    {
     "data": {
      "text/plain": [
       "Name\n",
       "Lake Champlain-Richelieu    0.027350\n",
       "Lake Erie                   4.115734\n",
       "Lake Huron                  6.228102\n",
       "Lake Michigan               6.774100\n",
       "Lake Ontario                0.101616\n",
       "Lake St. Clair              6.957307\n",
       "Lake Superior               4.751410\n",
       "Ottawa River                1.270481\n",
       "Saint Maurice               0.363874\n",
       "St. Lawrence                0.267771\n",
       "Name: prcp_mm, dtype: float64"
      ]
     },
     "execution_count": 73,
     "metadata": {},
     "output_type": "execute_result"
    }
   ],
   "source": [
    "### precip TOTAL\n",
    "precipSTLAW_Total.groupby('Name')['prcp_mm'].mean()"
   ]
  }
 ],
 "metadata": {
  "kernelspec": {
   "display_name": "Python 3",
   "language": "python",
   "name": "python3"
  },
  "language_info": {
   "codemirror_mode": {
    "name": "ipython",
    "version": 3
   },
   "file_extension": ".py",
   "mimetype": "text/x-python",
   "name": "python",
   "nbconvert_exporter": "python",
   "pygments_lexer": "ipython3",
   "version": "3.7.8"
  }
 },
 "nbformat": 4,
 "nbformat_minor": 4
}
